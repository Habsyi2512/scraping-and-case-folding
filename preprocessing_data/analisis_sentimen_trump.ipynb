{
 "cells": [
  {
   "cell_type": "markdown",
   "id": "43b3e2b4",
   "metadata": {},
   "source": [
    "ANALISIS SENTIMEN PANDANGAN PUBLIK TERHADAP PRESIDEN AMERIKA (TRUMP) MENGGUNAKNA VADER"
   ]
  },
  {
   "cell_type": "markdown",
   "id": "f1020bed",
   "metadata": {},
   "source": [
    "Import library yang akan digunakan"
   ]
  },
  {
   "cell_type": "code",
   "execution_count": 2,
   "id": "f463d204",
   "metadata": {},
   "outputs": [
    {
     "name": "stderr",
     "output_type": "stream",
     "text": [
      "[nltk_data] Downloading package punkt to\n",
      "[nltk_data]     /Users/muhammadhabsyimubarak/nltk_data...\n",
      "[nltk_data]   Package punkt is already up-to-date!\n"
     ]
    },
    {
     "data": {
      "text/plain": [
       "True"
      ]
     },
     "execution_count": 2,
     "metadata": {},
     "output_type": "execute_result"
    }
   ],
   "source": [
    "import pandas as pd\n",
    "import re\n",
    "import string\n",
    "import nltk\n",
    "\n",
    "nltk.download('punkt')"
   ]
  },
  {
   "cell_type": "markdown",
   "id": "14420285",
   "metadata": {},
   "source": [
    "### Membaca data csv menggunakan library pandas "
   ]
  },
  {
   "cell_type": "code",
   "execution_count": 3,
   "id": "bf84ba93",
   "metadata": {},
   "outputs": [],
   "source": [
    "# Membaca data\n",
    "data_path = '../tweets-data/trump.csv'\n",
    "df = pd.read_csv(data_path)"
   ]
  },
  {
   "cell_type": "markdown",
   "id": "17054eca",
   "metadata": {},
   "source": [
    "#### Lihat baris data teratas sebanyak 5 baris menggunakan df.head()"
   ]
  },
  {
   "cell_type": "code",
   "execution_count": 4,
   "id": "fad7a93f",
   "metadata": {},
   "outputs": [
    {
     "data": {
      "text/html": [
       "<div>\n",
       "<style scoped>\n",
       "    .dataframe tbody tr th:only-of-type {\n",
       "        vertical-align: middle;\n",
       "    }\n",
       "\n",
       "    .dataframe tbody tr th {\n",
       "        vertical-align: top;\n",
       "    }\n",
       "\n",
       "    .dataframe thead th {\n",
       "        text-align: right;\n",
       "    }\n",
       "</style>\n",
       "<table border=\"1\" class=\"dataframe\">\n",
       "  <thead>\n",
       "    <tr style=\"text-align: right;\">\n",
       "      <th></th>\n",
       "      <th>conversation_id_str</th>\n",
       "      <th>created_at</th>\n",
       "      <th>favorite_count</th>\n",
       "      <th>full_text</th>\n",
       "      <th>id_str</th>\n",
       "      <th>image_url</th>\n",
       "      <th>in_reply_to_screen_name</th>\n",
       "      <th>lang</th>\n",
       "      <th>location</th>\n",
       "      <th>quote_count</th>\n",
       "      <th>reply_count</th>\n",
       "      <th>retweet_count</th>\n",
       "      <th>tweet_url</th>\n",
       "      <th>user_id_str</th>\n",
       "      <th>username</th>\n",
       "    </tr>\n",
       "  </thead>\n",
       "  <tbody>\n",
       "    <tr>\n",
       "      <th>0</th>\n",
       "      <td>1976075103176884627</td>\n",
       "      <td>Wed Oct 08 23:59:52 +0000 2025</td>\n",
       "      <td>32</td>\n",
       "      <td>WATCH: Gov. JB Pritzker claims President Trump...</td>\n",
       "      <td>1976075103176884627</td>\n",
       "      <td>https://pbs.twimg.com/amplify_video_thumb/1975...</td>\n",
       "      <td>NaN</td>\n",
       "      <td>en</td>\n",
       "      <td>NaN</td>\n",
       "      <td>2</td>\n",
       "      <td>16</td>\n",
       "      <td>3</td>\n",
       "      <td>https://x.com/undefined/status/197607510317688...</td>\n",
       "      <td>1441965051414339586</td>\n",
       "      <td>NaN</td>\n",
       "    </tr>\n",
       "    <tr>\n",
       "      <th>1</th>\n",
       "      <td>1976075098697462114</td>\n",
       "      <td>Wed Oct 08 23:59:51 +0000 2025</td>\n",
       "      <td>66</td>\n",
       "      <td>Trump raised the Bar and the rest ... https://...</td>\n",
       "      <td>1976075098697462114</td>\n",
       "      <td>https://pbs.twimg.com/media/G2xt1JiXYAACbSO.jpg</td>\n",
       "      <td>NaN</td>\n",
       "      <td>en</td>\n",
       "      <td>NaN</td>\n",
       "      <td>1</td>\n",
       "      <td>11</td>\n",
       "      <td>17</td>\n",
       "      <td>https://x.com/undefined/status/197607509869746...</td>\n",
       "      <td>1646706148257529865</td>\n",
       "      <td>NaN</td>\n",
       "    </tr>\n",
       "    <tr>\n",
       "      <th>2</th>\n",
       "      <td>1976075095753077041</td>\n",
       "      <td>Wed Oct 08 23:59:51 +0000 2025</td>\n",
       "      <td>202</td>\n",
       "      <td>Sen FETTERMAN votes NO on the War Powers Resol...</td>\n",
       "      <td>1976075095753077041</td>\n",
       "      <td>NaN</td>\n",
       "      <td>NaN</td>\n",
       "      <td>en</td>\n",
       "      <td>NaN</td>\n",
       "      <td>25</td>\n",
       "      <td>41</td>\n",
       "      <td>78</td>\n",
       "      <td>https://x.com/undefined/status/197607509575307...</td>\n",
       "      <td>14007532</td>\n",
       "      <td>NaN</td>\n",
       "    </tr>\n",
       "    <tr>\n",
       "      <th>3</th>\n",
       "      <td>1976075075746250859</td>\n",
       "      <td>Wed Oct 08 23:59:46 +0000 2025</td>\n",
       "      <td>88</td>\n",
       "      <td>President Trump Beats Democrats AGAIN - Massiv...</td>\n",
       "      <td>1976075075746250859</td>\n",
       "      <td>https://pbs.twimg.com/media/G2xtzoAWcAAEyhL.jpg</td>\n",
       "      <td>NaN</td>\n",
       "      <td>en</td>\n",
       "      <td>NaN</td>\n",
       "      <td>0</td>\n",
       "      <td>3</td>\n",
       "      <td>63</td>\n",
       "      <td>https://x.com/undefined/status/197607507574625...</td>\n",
       "      <td>1798808895965847552</td>\n",
       "      <td>NaN</td>\n",
       "    </tr>\n",
       "    <tr>\n",
       "      <th>4</th>\n",
       "      <td>1976075060717945219</td>\n",
       "      <td>Wed Oct 08 23:59:42 +0000 2025</td>\n",
       "      <td>613</td>\n",
       "      <td>Trump Announces Israel Hamas PEACE PLAN SIGNED...</td>\n",
       "      <td>1976075060717945219</td>\n",
       "      <td>NaN</td>\n",
       "      <td>NaN</td>\n",
       "      <td>en</td>\n",
       "      <td>NaN</td>\n",
       "      <td>1</td>\n",
       "      <td>66</td>\n",
       "      <td>59</td>\n",
       "      <td>https://x.com/undefined/status/197607506071794...</td>\n",
       "      <td>27000730</td>\n",
       "      <td>NaN</td>\n",
       "    </tr>\n",
       "  </tbody>\n",
       "</table>\n",
       "</div>"
      ],
      "text/plain": [
       "   conversation_id_str                      created_at  favorite_count  \\\n",
       "0  1976075103176884627  Wed Oct 08 23:59:52 +0000 2025              32   \n",
       "1  1976075098697462114  Wed Oct 08 23:59:51 +0000 2025              66   \n",
       "2  1976075095753077041  Wed Oct 08 23:59:51 +0000 2025             202   \n",
       "3  1976075075746250859  Wed Oct 08 23:59:46 +0000 2025              88   \n",
       "4  1976075060717945219  Wed Oct 08 23:59:42 +0000 2025             613   \n",
       "\n",
       "                                           full_text               id_str  \\\n",
       "0  WATCH: Gov. JB Pritzker claims President Trump...  1976075103176884627   \n",
       "1  Trump raised the Bar and the rest ... https://...  1976075098697462114   \n",
       "2  Sen FETTERMAN votes NO on the War Powers Resol...  1976075095753077041   \n",
       "3  President Trump Beats Democrats AGAIN - Massiv...  1976075075746250859   \n",
       "4  Trump Announces Israel Hamas PEACE PLAN SIGNED...  1976075060717945219   \n",
       "\n",
       "                                           image_url  in_reply_to_screen_name  \\\n",
       "0  https://pbs.twimg.com/amplify_video_thumb/1975...                      NaN   \n",
       "1    https://pbs.twimg.com/media/G2xt1JiXYAACbSO.jpg                      NaN   \n",
       "2                                                NaN                      NaN   \n",
       "3    https://pbs.twimg.com/media/G2xtzoAWcAAEyhL.jpg                      NaN   \n",
       "4                                                NaN                      NaN   \n",
       "\n",
       "  lang  location  quote_count  reply_count  retweet_count  \\\n",
       "0   en       NaN            2           16              3   \n",
       "1   en       NaN            1           11             17   \n",
       "2   en       NaN           25           41             78   \n",
       "3   en       NaN            0            3             63   \n",
       "4   en       NaN            1           66             59   \n",
       "\n",
       "                                           tweet_url          user_id_str  \\\n",
       "0  https://x.com/undefined/status/197607510317688...  1441965051414339586   \n",
       "1  https://x.com/undefined/status/197607509869746...  1646706148257529865   \n",
       "2  https://x.com/undefined/status/197607509575307...             14007532   \n",
       "3  https://x.com/undefined/status/197607507574625...  1798808895965847552   \n",
       "4  https://x.com/undefined/status/197607506071794...             27000730   \n",
       "\n",
       "   username  \n",
       "0       NaN  \n",
       "1       NaN  \n",
       "2       NaN  \n",
       "3       NaN  \n",
       "4       NaN  "
      ]
     },
     "execution_count": 4,
     "metadata": {},
     "output_type": "execute_result"
    }
   ],
   "source": [
    "# Cek kolom yang tersedia\n",
    "df.head()"
   ]
  },
  {
   "cell_type": "markdown",
   "id": "db110762",
   "metadata": {},
   "source": [
    "#### 🧹 Cleaning Teks\n",
    "\n",
    "Tahap ini bertujuan untuk membersihkan tweet dari elemen-elemen yang tidak relevan agar siap untuk analisis sentimen yang ada didalam fungsi clean_text().\n",
    "\n",
    "Langkah-langkah pembersihan:\n",
    "\n",
    "1. Case folding – mengubah seluruh teks menjadi huruf kecil (text.lower()), agar kata serupa dianggap sama.\n",
    "2. Hapus URL – menghapus tautan seperti http:// atau www. menggunakan regex.\n",
    "3. Hapus mention & hashtag – menghapus @username dan #tagar yang tidak menambah makna sentimen.\n",
    "4. Hapus angka – menghapus semua digit numerik (\\d+).\n",
    "5. Hapus tanda baca – menghapus simbol seperti koma, titik, tanda seru, dll.\n",
    "6. Hapus emoji & karakter non-ASCII – agar teks hanya berisi huruf latin standar.\n",
    "7. Hapus spasi berlebih – merapikan teks dari spasi ganda dan spasi di awal/akhir kalimat.\n",
    "8. Terapkan ke dataset – fungsi clean_text() diterapkan ke kolom full_text menghasilkan kolom baru clean_text.\n",
    "9. Tampilkan hasil – menampilkan perbandingan antara teks asli dan teks bersih untuk memastikan proses berhasil."
   ]
  },
  {
   "cell_type": "code",
   "execution_count": 5,
   "id": "a8cc566b",
   "metadata": {},
   "outputs": [
    {
     "data": {
      "text/html": [
       "<div>\n",
       "<style scoped>\n",
       "    .dataframe tbody tr th:only-of-type {\n",
       "        vertical-align: middle;\n",
       "    }\n",
       "\n",
       "    .dataframe tbody tr th {\n",
       "        vertical-align: top;\n",
       "    }\n",
       "\n",
       "    .dataframe thead th {\n",
       "        text-align: right;\n",
       "    }\n",
       "</style>\n",
       "<table border=\"1\" class=\"dataframe\">\n",
       "  <thead>\n",
       "    <tr style=\"text-align: right;\">\n",
       "      <th></th>\n",
       "      <th>full_text</th>\n",
       "      <th>clean_text</th>\n",
       "    </tr>\n",
       "  </thead>\n",
       "  <tbody>\n",
       "    <tr>\n",
       "      <th>0</th>\n",
       "      <td>WATCH: Gov. JB Pritzker claims President Trump always chickens out after he called for his arrest. We've done nothing wrong here. And very importantly it's Donald Trump that is breaching the Constitution breaking the law. We're taking him to court. https://t.co/C7jXkNkvW3</td>\n",
       "      <td>watch gov jb pritzker claims president trump always chickens out after he called for his arrest weve done nothing wrong here and very importantly its donald trump that is breaching the constitution breaking the law were taking him to court</td>\n",
       "    </tr>\n",
       "    <tr>\n",
       "      <th>1</th>\n",
       "      <td>Trump raised the Bar and the rest ... https://t.co/K1tESzo5fg</td>\n",
       "      <td>trump raised the bar and the rest</td>\n",
       "    </tr>\n",
       "    <tr>\n",
       "      <th>2</th>\n",
       "      <td>Sen FETTERMAN votes NO on the War Powers Resolution that would require Congressional approval before the Trump admin conducted additional military strikes in the Caribbean.</td>\n",
       "      <td>sen fetterman votes no on the war powers resolution that would require congressional approval before the trump admin conducted additional military strikes in the caribbean</td>\n",
       "    </tr>\n",
       "    <tr>\n",
       "      <th>3</th>\n",
       "      <td>President Trump Beats Democrats AGAIN - Massive Court Victory READ THE FULL ARTICLE BELOW: https://t.co/QfSJPinVX1</td>\n",
       "      <td>president trump beats democrats again massive court victory read the full article below</td>\n",
       "    </tr>\n",
       "    <tr>\n",
       "      <th>4</th>\n",
       "      <td>Trump Announces Israel Hamas PEACE PLAN SIGNED Israel To WITHDRAW Troops | Timcast IRL https://t.co/tUSBYgt21k</td>\n",
       "      <td>trump announces israel hamas peace plan signed israel to withdraw troops timcast irl</td>\n",
       "    </tr>\n",
       "  </tbody>\n",
       "</table>\n",
       "</div>"
      ],
      "text/plain": [
       "                                                                                                                                                                                                                                                                          full_text  \\\n",
       "0  WATCH: Gov. JB Pritzker claims President Trump always chickens out after he called for his arrest. We've done nothing wrong here. And very importantly it's Donald Trump that is breaching the Constitution breaking the law. We're taking him to court. https://t.co/C7jXkNkvW3   \n",
       "1                                                                                                                                                                                                                     Trump raised the Bar and the rest ... https://t.co/K1tESzo5fg   \n",
       "2                                                                                                      Sen FETTERMAN votes NO on the War Powers Resolution that would require Congressional approval before the Trump admin conducted additional military strikes in the Caribbean.   \n",
       "3                                                                                                                                                                President Trump Beats Democrats AGAIN - Massive Court Victory READ THE FULL ARTICLE BELOW: https://t.co/QfSJPinVX1   \n",
       "4                                                                                                                                                                    Trump Announces Israel Hamas PEACE PLAN SIGNED Israel To WITHDRAW Troops | Timcast IRL https://t.co/tUSBYgt21k   \n",
       "\n",
       "                                                                                                                                                                                                                                        clean_text  \n",
       "0  watch gov jb pritzker claims president trump always chickens out after he called for his arrest weve done nothing wrong here and very importantly its donald trump that is breaching the constitution breaking the law were taking him to court  \n",
       "1                                                                                                                                                                                                                trump raised the bar and the rest  \n",
       "2                                                                      sen fetterman votes no on the war powers resolution that would require congressional approval before the trump admin conducted additional military strikes in the caribbean  \n",
       "3                                                                                                                                                          president trump beats democrats again massive court victory read the full article below  \n",
       "4                                                                                                                                                             trump announces israel hamas peace plan signed israel to withdraw troops timcast irl  "
      ]
     },
     "execution_count": 5,
     "metadata": {},
     "output_type": "execute_result"
    }
   ],
   "source": [
    "def clean_text(text: str) -> str:\n",
    "    \"\"\"Membersihkan teks dari URL, mention, hashtag, angka, tanda baca, dan emoji.\"\"\"\n",
    "    text = text.lower()                                              # Case folding\n",
    "    text = re.sub(r'http\\S+|www\\S+', '', text)                       # Hapus URL\n",
    "    text = re.sub(r'@\\w+', '', text)                                 # Hapus mention\n",
    "    text = re.sub(r'#\\w+', '', text)                                 # Hapus hashtag\n",
    "    text = re.sub(r'\\d+', '', text)                                  # Hapus angka\n",
    "    text = text.translate(str.maketrans('', '', string.punctuation)) # Hapus tanda baca\n",
    "    text = re.sub(r'[^\\x00-\\x7f]', '', text)                         # Hapus emoji\n",
    "    text = re.sub(r'\\s+', ' ', text).strip()                         # Hapus spasi berlebih\n",
    "    return text\n",
    "\n",
    "# Terapkan pembersihan teks\n",
    "df['clean_text'] = df['full_text'].apply(clean_text)\n",
    "\n",
    "# perbandingan sebelum dan sesudah pembersihan\n",
    "pd.set_option('display.max_colwidth', None)\n",
    "df[['full_text', 'clean_text']].head()"
   ]
  },
  {
   "cell_type": "markdown",
   "id": "7cebf8ae",
   "metadata": {},
   "source": [
    "Langkah ini digunakan untuk memeriksa apakah terdapat tweet yang sama (duplikat) pada kolom teks yang sudah dibersihkan."
   ]
  },
  {
   "cell_type": "code",
   "execution_count": 6,
   "id": "3c3dc3bd",
   "metadata": {},
   "outputs": [
    {
     "data": {
      "text/plain": [
       "61"
      ]
     },
     "execution_count": 6,
     "metadata": {},
     "output_type": "execute_result"
    }
   ],
   "source": [
    "# Cek duplikasi pada kolom clean_text\n",
    "df['clean_text'].duplicated().sum()"
   ]
  },
  {
   "cell_type": "markdown",
   "id": "4234bf1b",
   "metadata": {},
   "source": [
    "Setelah ditemukan adanya duplikasi, langkah berikutnya adalah menghapus tweet yang memiliki teks identik."
   ]
  },
  {
   "cell_type": "code",
   "execution_count": 7,
   "id": "a2a978ac",
   "metadata": {},
   "outputs": [
    {
     "name": "stdout",
     "output_type": "stream",
     "text": [
      "Jumlah data setelah menghapus duplikat: 1939\n"
     ]
    }
   ],
   "source": [
    "# Hapus duplikasi\n",
    "df.drop_duplicates(subset=['clean_text'], inplace=True)\n",
    "print(f\"Jumlah data setelah menghapus duplikat: {df.shape[0]}\")"
   ]
  },
  {
   "cell_type": "markdown",
   "id": "710e248d",
   "metadata": {},
   "source": [
    "#### 💬 Analisis Sentimen Menggunakan VADER\n",
    "\n",
    "Tahap ini bertujuan untuk mengukur sentimen tiap tweet menggunakan VADER (Valence Aware Dictionary and sEntiment Reasoner), yaitu model leksikon bawaan NLTK yang efektif untuk teks pendek seperti tweet."
   ]
  },
  {
   "cell_type": "code",
   "execution_count": 8,
   "id": "110000c9",
   "metadata": {},
   "outputs": [
    {
     "name": "stderr",
     "output_type": "stream",
     "text": [
      "[nltk_data] Downloading package vader_lexicon to\n",
      "[nltk_data]     /Users/muhammadhabsyimubarak/nltk_data...\n",
      "[nltk_data]   Package vader_lexicon is already up-to-date!\n"
     ]
    },
    {
     "data": {
      "text/html": [
       "<div>\n",
       "<style scoped>\n",
       "    .dataframe tbody tr th:only-of-type {\n",
       "        vertical-align: middle;\n",
       "    }\n",
       "\n",
       "    .dataframe tbody tr th {\n",
       "        vertical-align: top;\n",
       "    }\n",
       "\n",
       "    .dataframe thead th {\n",
       "        text-align: right;\n",
       "    }\n",
       "</style>\n",
       "<table border=\"1\" class=\"dataframe\">\n",
       "  <thead>\n",
       "    <tr style=\"text-align: right;\">\n",
       "      <th></th>\n",
       "      <th>clean_text</th>\n",
       "      <th>sentiment</th>\n",
       "      <th>sentiment_label</th>\n",
       "    </tr>\n",
       "  </thead>\n",
       "  <tbody>\n",
       "    <tr>\n",
       "      <th>0</th>\n",
       "      <td>watch gov jb pritzker claims president trump always chickens out after he called for his arrest weve done nothing wrong here and very importantly its donald trump that is breaching the constitution breaking the law were taking him to court</td>\n",
       "      <td>0.4112</td>\n",
       "      <td>positive</td>\n",
       "    </tr>\n",
       "    <tr>\n",
       "      <th>1</th>\n",
       "      <td>trump raised the bar and the rest</td>\n",
       "      <td>0.0000</td>\n",
       "      <td>neutral</td>\n",
       "    </tr>\n",
       "    <tr>\n",
       "      <th>2</th>\n",
       "      <td>sen fetterman votes no on the war powers resolution that would require congressional approval before the trump admin conducted additional military strikes in the caribbean</td>\n",
       "      <td>-0.6705</td>\n",
       "      <td>negative</td>\n",
       "    </tr>\n",
       "    <tr>\n",
       "      <th>3</th>\n",
       "      <td>president trump beats democrats again massive court victory read the full article below</td>\n",
       "      <td>0.0000</td>\n",
       "      <td>neutral</td>\n",
       "    </tr>\n",
       "    <tr>\n",
       "      <th>4</th>\n",
       "      <td>trump announces israel hamas peace plan signed israel to withdraw troops timcast irl</td>\n",
       "      <td>0.5423</td>\n",
       "      <td>positive</td>\n",
       "    </tr>\n",
       "  </tbody>\n",
       "</table>\n",
       "</div>"
      ],
      "text/plain": [
       "                                                                                                                                                                                                                                        clean_text  \\\n",
       "0  watch gov jb pritzker claims president trump always chickens out after he called for his arrest weve done nothing wrong here and very importantly its donald trump that is breaching the constitution breaking the law were taking him to court   \n",
       "1                                                                                                                                                                                                                trump raised the bar and the rest   \n",
       "2                                                                      sen fetterman votes no on the war powers resolution that would require congressional approval before the trump admin conducted additional military strikes in the caribbean   \n",
       "3                                                                                                                                                          president trump beats democrats again massive court victory read the full article below   \n",
       "4                                                                                                                                                             trump announces israel hamas peace plan signed israel to withdraw troops timcast irl   \n",
       "\n",
       "   sentiment sentiment_label  \n",
       "0     0.4112        positive  \n",
       "1     0.0000         neutral  \n",
       "2    -0.6705        negative  \n",
       "3     0.0000         neutral  \n",
       "4     0.5423        positive  "
      ]
     },
     "execution_count": 8,
     "metadata": {},
     "output_type": "execute_result"
    }
   ],
   "source": [
    "# analisis sentimen menggunakan vader\n",
    "from nltk.sentiment.vader import SentimentIntensityAnalyzer\n",
    "nltk.download('vader_lexicon')\n",
    "\n",
    "sia = SentimentIntensityAnalyzer()\n",
    "df['sentiment'] = df['clean_text'].apply(lambda x: sia.polarity_scores(x)['compound'])\n",
    "# Klasifikasi sentimen\n",
    "df['sentiment_label'] = df['sentiment'].apply(lambda x: 'positive' if x > 0 else ('negative' if x < 0 else 'neutral'))\n",
    "df[['clean_text', 'sentiment', 'sentiment_label']].head()"
   ]
  },
  {
   "cell_type": "markdown",
   "id": "30a14ed2",
   "metadata": {},
   "source": [
    "#### 📊 Visualisasi Hasil Analisis Sentimen\n",
    "\n",
    "Tahap ini bertujuan untuk memahami sebaran dan distribusi hasil sentimen dari tweet yang telah dianalisis menggunakan VADER."
   ]
  },
  {
   "cell_type": "code",
   "execution_count": 9,
   "id": "89020dd8",
   "metadata": {},
   "outputs": [
    {
     "name": "stderr",
     "output_type": "stream",
     "text": [
      "/var/folders/1h/19sn8dhd4pv7f4lwt4g883p80000gn/T/ipykernel_22879/3673871075.py:6: UserWarning: Could not infer format, so each element will be parsed individually, falling back to `dateutil`. To ensure parsing is consistent and as-expected, please specify a format.\n",
      "  df['created_at_dt'] = pd.to_datetime(df['created_at'], errors='coerce')\n"
     ]
    },
    {
     "data": {
      "image/png": "[encoded data removed]",
      "text/plain": [
       "<Figure size 800x500 with 1 Axes>"
      ]
     },
     "metadata": {},
     "output_type": "display_data"
    },
    {
     "data": {
      "image/png": "[encoded data removed]",
      "text/plain": [
       "<Figure size 800x400 with 1 Axes>"
      ]
     },
     "metadata": {},
     "output_type": "display_data"
    }
   ],
   "source": [
    "import seaborn as sns\n",
    "\n",
    "import matplotlib.pyplot as plt\n",
    "\n",
    "# Pastikan kolom tanggal dalam format datetime\n",
    "df['created_at_dt'] = pd.to_datetime(df['created_at'], errors='coerce')\n",
    "\n",
    "# 1) Distribusi label sentimen (count)\n",
    "plt.figure(figsize=(8,5))\n",
    "ax1 = sns.countplot(data=df, x='sentiment_label', order=['positive','neutral','negative'],\n",
    "          palette={'positive':'#2ca02c','neutral':'#7f7f7f','negative':'#d62728'})\n",
    "plt.title('Distribusi Label Sentimen')\n",
    "plt.xlabel('Sentimen')\n",
    "plt.ylabel('Jumlah Tweet')\n",
    "# tambahkan anotasi jumlah di atas bar\n",
    "for p in ax1.patches:\n",
    "  ax1.annotate(format(int(p.get_height()), ','), \n",
    "         (p.get_x() + p.get_width() / 2., p.get_height()),\n",
    "         ha='center', va='center', xytext=(0, 8), textcoords='offset points')\n",
    "plt.tight_layout()\n",
    "plt.show()\n",
    "\n",
    "# 2) Histogram/Distribusi skor sentiment (compound)\n",
    "plt.figure(figsize=(8,4))\n",
    "sns.histplot(df['sentiment'], bins=40, kde=True, color='#1f77b4')\n",
    "plt.title('Distribusi Skor Sentimen (compound)')\n",
    "plt.xlabel('Skor Sentimen (compound)')\n",
    "plt.ylabel('Frekuensi')\n",
    "plt.tight_layout()\n",
    "plt.show()"
   ]
  },
  {
   "cell_type": "markdown",
   "id": "ea0556bb",
   "metadata": {},
   "source": [
    "### Penjelasan\n",
    "Kode berikut digunakan untuk menjalankan proses analisis atau pembersihan data. Pastikan semua dependensi sudah terinstal sebelum menjalankan cell ini.\n"
   ]
  },
  {
   "cell_type": "code",
   "execution_count": 13,
   "id": "3d16214e",
   "metadata": {},
   "outputs": [
    {
     "name": "stdout",
     "output_type": "stream",
     "text": [
      "✅ Preprocessing selesai! File disimpan sebagai trump_clean.csv\n"
     ]
    }
   ],
   "source": [
    "# 7. Simpan hasil data\n",
    "selected_columns = ['created_at','full_text','clean_text', 'sentiment', 'sentiment_label']\n",
    "df[selected_columns].to_csv(\"../tweets-data/trumpt_clean.csv\" , index=False)\n",
    "print(\"✅ Preprocessing selesai! File disimpan sebagai trump_clean.csv\")"
   ]
  },
  {
   "cell_type": "markdown",
   "id": "623ae51b",
   "metadata": {},
   "source": [
    "\n",
    "## 📊 Kesimpulan Analisis Sentimen\n",
    "\n",
    "Berdasarkan hasil analisis sentimen terhadap tweet yang mengandung kata kunci *Trump*, dapat disimpulkan bahwa:\n",
    "\n",
    "- Tweet dengan sentimen **positif** menunjukkan opini yang mendukung atau mengapresiasi kebijakan atau tindakan Trump.  \n",
    "- Tweet dengan sentimen **negatif** mencerminkan kritik, ketidaksetujuan, atau pernyataan yang bernada menyerang.  \n",
    "- Tweet dengan sentimen **netral** biasanya berupa pernyataan informatif, berita, atau fakta tanpa emosi yang kuat.\n",
    "\n",
    "Visualisasi distribusi dan skor sentimen menunjukkan kecenderungan umum opini publik terhadap Trump selama periode waktu pengambilan data.\n"
   ]
  }
 ],
 "metadata": {
  "kernelspec": {
   "display_name": "base",
   "language": "python",
   "name": "python3"
  },
  "language_info": {
   "codemirror_mode": {
    "name": "ipython",
    "version": 3
   },
   "file_extension": ".py",
   "mimetype": "text/x-python",
   "name": "python",
   "nbconvert_exporter": "python",
   "pygments_lexer": "ipython3",
   "version": "3.11.5"
  }
 },
 "nbformat": 4,
 "nbformat_minor": 5
}
